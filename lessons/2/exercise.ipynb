{
    "cells": [
        {
            "cell_type": "markdown",
            "metadata": {},
            "source": [
                "# Exercise 2: Piping commands\n",
                "\n",
                "Pipe the first and second columns of `fruits_extended.csv` into `qsv table`."
            ]
        },
        {
            "cell_type": "code",
            "execution_count": null,
            "metadata": {},
            "outputs": [],
            "source": [
                "qsv select --help"
            ]
        },
        {
            "cell_type": "markdown",
            "metadata": {},
            "source": [
                "After running that pipeline and viewing the output, try adding `qsv transpose` before `qsv table` in the pipeline and see what the output looks like."
            ]
        },
        {
            "cell_type": "code",
            "execution_count": null,
            "metadata": {
                "vscode": {
                    "languageId": "plaintext"
                }
            },
            "outputs": [],
            "source": []
        }
    ],
    "metadata": {
        "kernelspec": {
            "display_name": "Bash",
            "language": "bash",
            "name": "bash"
        },
        "language_info": {
            "name": "bash"
        }
    },
    "nbformat": 4,
    "nbformat_minor": 2
}
