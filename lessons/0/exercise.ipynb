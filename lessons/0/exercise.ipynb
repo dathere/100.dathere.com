{
    "cells": [
        {
            "cell_type": "markdown",
            "metadata": {},
            "source": [
                "# Exercise 0: Total rows\n",
                "\n",
                "Using a qsv command, get the total number of rows that are in the `fruits.csv` file."
            ]
        },
        {
            "cell_type": "code",
            "execution_count": null,
            "metadata": {},
            "outputs": [],
            "source": [
                "qsv --list"
            ]
        }
    ],
    "metadata": {
        "kernelspec": {
            "display_name": "Bash",
            "language": "bash",
            "name": "bash"
        },
        "language_info": {
            "name": "bash"
        }
    },
    "nbformat": 4,
    "nbformat_minor": 2
}
