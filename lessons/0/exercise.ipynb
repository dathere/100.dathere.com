{
    "cells": [
        {
            "cell_type": "markdown",
            "metadata": {},
            "source": ["# Exercise 0: Total rows"]
        },
        {
            "cell_type": "code",
            "execution_count": null,
            "metadata": {},
            "outputs": [],
            "source": []
        }
    ],
    "metadata": {
        "kernelspec": {
            "display_name": "Bash",
            "language": "bash",
            "name": "bash"
        },
        "language_info": {
            "name": "bash"
        }
    },
    "nbformat": 4,
    "nbformat_minor": 2
}
