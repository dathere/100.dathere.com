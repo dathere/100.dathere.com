{
    "cells": [
        {
            "cell_type": "markdown",
            "metadata": {},
            "source": [
                "# qsv playground\n",
                "\n",
                "Explore qsv online in this Jupyter Lab environment. Click the folder icon on the left to view the files in this directory. You can try dropping files and running qsv on them too. We've provided a few CSV files for you to experiment with."
            ]
        },
        {
            "cell_type": "code",
            "execution_count": null,
            "metadata": {},
            "outputs": [],
            "source": [
                "qsv --list"
            ]
        }
    ],
    "metadata": {
        "kernelspec": {
            "display_name": "Bash",
            "language": "bash",
            "name": "bash"
        },
        "language_info": {
            "name": "bash"
        }
    },
    "nbformat": 4,
    "nbformat_minor": 2
}
