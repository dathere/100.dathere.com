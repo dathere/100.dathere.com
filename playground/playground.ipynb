{
 "cells": [
  {
   "cell_type": "markdown",
   "metadata": {},
   "source": [
    "# qsv playground\n",
    "\n",
    "Explore qsv online in this Jupyter Lab environment!\n",
    "\n",
    "If you're new to qsv and want to learn from lessons and exercises, visit [100.dathere.com](https://100.dathere.com) to learn more.\n",
    "\n",
    "## Tips\n",
    "\n",
    "- Get started by viewing what commands are available by running the command in the cell below.\n",
    "- Click the folder icon on the left to view the files in this directory. You can also try dropping files from your computer and try running qsv commands on them.\n",
    "- You can launch a terminal. Click the folder icon then click the blue plus icon in the sidebar followed by the Terminal button.\n",
    "- We've provided a few CSV files for you to experiment with.\n",
    "- Note that this is a temporary lab that may shut down if you leave it idle for a while or exit."
   ]
  },
  {
   "cell_type": "code",
   "execution_count": null,
   "metadata": {},
   "outputs": [],
   "source": [
    "qsv --list"
   ]
  }
 ],
 "metadata": {
  "kernelspec": {
   "display_name": "Bash",
   "language": "bash",
   "name": "bash"
  },
  "language_info": {
   "codemirror_mode": "shell",
   "file_extension": ".sh",
   "mimetype": "text/x-sh",
   "name": "bash"
  }
 },
 "nbformat": 4,
 "nbformat_minor": 4
}
